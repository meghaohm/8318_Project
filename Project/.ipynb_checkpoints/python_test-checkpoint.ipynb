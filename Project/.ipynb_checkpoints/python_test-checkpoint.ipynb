{
 "cells": [
  {
   "cell_type": "code",
   "execution_count": 2,
   "id": "f6afc322",
   "metadata": {},
   "outputs": [],
   "source": [
    "import numpy\n",
    "import pandas as pd\n",
    "import matplotlib.pyplot as plt"
   ]
  },
  {
   "cell_type": "code",
   "execution_count": 3,
   "id": "c6eacce9",
   "metadata": {},
   "outputs": [],
   "source": [
    "df = pd.read_csv(r\"Biovid_Train_65_Subjects.csv\")\n",
    "#nan_value = float(\"NaN\")\n",
    "#df.replace(\"\", nan_value, inplace=True)\n",
    "df = df.dropna()\n",
    "#print(df)"
   ]
  },
  {
   "cell_type": "code",
   "execution_count": 4,
   "id": "814f302e",
   "metadata": {},
   "outputs": [],
   "source": [
    "select_features = df.iloc[:, 1:42]\n",
    "#print(select_features)"
   ]
  },
  {
   "cell_type": "code",
   "execution_count": 10,
   "id": "5ca6dacd",
   "metadata": {},
   "outputs": [
    {
     "data": {
      "text/html": [
       "<div>\n",
       "<style scoped>\n",
       "    .dataframe tbody tr th:only-of-type {\n",
       "        vertical-align: middle;\n",
       "    }\n",
       "\n",
       "    .dataframe tbody tr th {\n",
       "        vertical-align: top;\n",
       "    }\n",
       "\n",
       "    .dataframe thead th {\n",
       "        text-align: right;\n",
       "    }\n",
       "</style>\n",
       "<table border=\"1\" class=\"dataframe\">\n",
       "  <thead>\n",
       "    <tr style=\"text-align: right;\">\n",
       "      <th></th>\n",
       "      <th>Subject-ID</th>\n",
       "      <th>Label</th>\n",
       "      <th>CH22_A-PEAK</th>\n",
       "      <th>CH22_A-P2P</th>\n",
       "      <th>CH22_A-RMS</th>\n",
       "      <th>CH22_A-MLocMaxV</th>\n",
       "      <th>CH22_A-MINLocMinV</th>\n",
       "      <th>CH22_A-MAV</th>\n",
       "      <th>CH22_A-MAVFD</th>\n",
       "      <th>CH22_A-MAVFDN</th>\n",
       "      <th>...</th>\n",
       "      <th>CH26_V-intrange</th>\n",
       "      <th>CH26_Sim-cohe_F_median</th>\n",
       "      <th>CH26_Sim-cohe_mean</th>\n",
       "      <th>CH26_Sim-cohe_pond_mean</th>\n",
       "      <th>CH26_Sim-cohe_areapond</th>\n",
       "      <th>CH26_Sim-corr</th>\n",
       "      <th>CH26_Sim-MutInfo</th>\n",
       "      <th>CH25_meanRR</th>\n",
       "      <th>CH25_rmssd</th>\n",
       "      <th>CH25_slopeRR</th>\n",
       "    </tr>\n",
       "  </thead>\n",
       "  <tbody>\n",
       "    <tr>\n",
       "      <th>0</th>\n",
       "      <td>20120713-09_w_21</td>\n",
       "      <td>level_one</td>\n",
       "      <td>91.532011</td>\n",
       "      <td>216.377139</td>\n",
       "      <td>25.108181</td>\n",
       "      <td>17.918435</td>\n",
       "      <td>-19.479958</td>\n",
       "      <td>18.065177</td>\n",
       "      <td>13.748699</td>\n",
       "      <td>0.547532</td>\n",
       "      <td>...</td>\n",
       "      <td>0.8115</td>\n",
       "      <td>255</td>\n",
       "      <td>0.983518</td>\n",
       "      <td>127.776970</td>\n",
       "      <td>252.000571</td>\n",
       "      <td>0.962237</td>\n",
       "      <td>8.907192</td>\n",
       "      <td>0.699842</td>\n",
       "      <td>0.694876</td>\n",
       "      <td>0.008705</td>\n",
       "    </tr>\n",
       "    <tr>\n",
       "      <th>1</th>\n",
       "      <td>20120713-09_w_21</td>\n",
       "      <td>level_zero</td>\n",
       "      <td>95.288535</td>\n",
       "      <td>237.124994</td>\n",
       "      <td>27.743774</td>\n",
       "      <td>20.800830</td>\n",
       "      <td>-21.690189</td>\n",
       "      <td>20.929211</td>\n",
       "      <td>15.579207</td>\n",
       "      <td>0.561481</td>\n",
       "      <td>...</td>\n",
       "      <td>0.1525</td>\n",
       "      <td>255</td>\n",
       "      <td>0.985815</td>\n",
       "      <td>127.795354</td>\n",
       "      <td>252.610118</td>\n",
       "      <td>0.982074</td>\n",
       "      <td>8.434579</td>\n",
       "      <td>0.724338</td>\n",
       "      <td>0.711751</td>\n",
       "      <td>-0.001395</td>\n",
       "    </tr>\n",
       "    <tr>\n",
       "      <th>2</th>\n",
       "      <td>20120713-09_w_21</td>\n",
       "      <td>level_two</td>\n",
       "      <td>91.916364</td>\n",
       "      <td>273.061283</td>\n",
       "      <td>24.903474</td>\n",
       "      <td>19.505845</td>\n",
       "      <td>-18.741006</td>\n",
       "      <td>17.921856</td>\n",
       "      <td>13.756612</td>\n",
       "      <td>0.552545</td>\n",
       "      <td>...</td>\n",
       "      <td>0.0780</td>\n",
       "      <td>255</td>\n",
       "      <td>0.985936</td>\n",
       "      <td>127.845884</td>\n",
       "      <td>252.583162</td>\n",
       "      <td>0.845082</td>\n",
       "      <td>6.991318</td>\n",
       "      <td>0.809665</td>\n",
       "      <td>0.800648</td>\n",
       "      <td>-0.011049</td>\n",
       "    </tr>\n",
       "    <tr>\n",
       "      <th>3</th>\n",
       "      <td>20120713-09_w_21</td>\n",
       "      <td>level_one</td>\n",
       "      <td>55.900607</td>\n",
       "      <td>134.244146</td>\n",
       "      <td>12.515714</td>\n",
       "      <td>9.260838</td>\n",
       "      <td>-9.729519</td>\n",
       "      <td>9.053227</td>\n",
       "      <td>6.794337</td>\n",
       "      <td>0.542809</td>\n",
       "      <td>...</td>\n",
       "      <td>0.1675</td>\n",
       "      <td>255</td>\n",
       "      <td>0.986668</td>\n",
       "      <td>127.855171</td>\n",
       "      <td>252.705158</td>\n",
       "      <td>0.950662</td>\n",
       "      <td>7.870152</td>\n",
       "      <td>0.751249</td>\n",
       "      <td>0.736903</td>\n",
       "      <td>0.003013</td>\n",
       "    </tr>\n",
       "    <tr>\n",
       "      <th>4</th>\n",
       "      <td>20120713-09_w_21</td>\n",
       "      <td>level_zero</td>\n",
       "      <td>63.693844</td>\n",
       "      <td>135.659641</td>\n",
       "      <td>8.645820</td>\n",
       "      <td>6.745312</td>\n",
       "      <td>-6.013200</td>\n",
       "      <td>5.575954</td>\n",
       "      <td>4.931330</td>\n",
       "      <td>0.570515</td>\n",
       "      <td>...</td>\n",
       "      <td>0.0300</td>\n",
       "      <td>256</td>\n",
       "      <td>0.986805</td>\n",
       "      <td>127.966961</td>\n",
       "      <td>252.680258</td>\n",
       "      <td>0.132647</td>\n",
       "      <td>5.713887</td>\n",
       "      <td>0.728272</td>\n",
       "      <td>0.713368</td>\n",
       "      <td>0.016183</td>\n",
       "    </tr>\n",
       "  </tbody>\n",
       "</table>\n",
       "<p>5 rows × 161 columns</p>\n",
       "</div>"
      ],
      "text/plain": [
       "         Subject-ID       Label  CH22_A-PEAK  CH22_A-P2P  CH22_A-RMS  \\\n",
       "0  20120713-09_w_21   level_one    91.532011  216.377139   25.108181   \n",
       "1  20120713-09_w_21  level_zero    95.288535  237.124994   27.743774   \n",
       "2  20120713-09_w_21   level_two    91.916364  273.061283   24.903474   \n",
       "3  20120713-09_w_21   level_one    55.900607  134.244146   12.515714   \n",
       "4  20120713-09_w_21  level_zero    63.693844  135.659641    8.645820   \n",
       "\n",
       "   CH22_A-MLocMaxV  CH22_A-MINLocMinV  CH22_A-MAV  CH22_A-MAVFD  \\\n",
       "0        17.918435         -19.479958   18.065177     13.748699   \n",
       "1        20.800830         -21.690189   20.929211     15.579207   \n",
       "2        19.505845         -18.741006   17.921856     13.756612   \n",
       "3         9.260838          -9.729519    9.053227      6.794337   \n",
       "4         6.745312          -6.013200    5.575954      4.931330   \n",
       "\n",
       "   CH22_A-MAVFDN  ...  CH26_V-intrange  CH26_Sim-cohe_F_median  \\\n",
       "0       0.547532  ...           0.8115                     255   \n",
       "1       0.561481  ...           0.1525                     255   \n",
       "2       0.552545  ...           0.0780                     255   \n",
       "3       0.542809  ...           0.1675                     255   \n",
       "4       0.570515  ...           0.0300                     256   \n",
       "\n",
       "   CH26_Sim-cohe_mean  CH26_Sim-cohe_pond_mean  CH26_Sim-cohe_areapond  \\\n",
       "0            0.983518               127.776970              252.000571   \n",
       "1            0.985815               127.795354              252.610118   \n",
       "2            0.985936               127.845884              252.583162   \n",
       "3            0.986668               127.855171              252.705158   \n",
       "4            0.986805               127.966961              252.680258   \n",
       "\n",
       "   CH26_Sim-corr  CH26_Sim-MutInfo  CH25_meanRR  CH25_rmssd  CH25_slopeRR  \n",
       "0       0.962237          8.907192     0.699842    0.694876      0.008705  \n",
       "1       0.982074          8.434579     0.724338    0.711751     -0.001395  \n",
       "2       0.845082          6.991318     0.809665    0.800648     -0.011049  \n",
       "3       0.950662          7.870152     0.751249    0.736903      0.003013  \n",
       "4       0.132647          5.713887     0.728272    0.713368      0.016183  \n",
       "\n",
       "[5 rows x 161 columns]"
      ]
     },
     "execution_count": 10,
     "metadata": {},
     "output_type": "execute_result"
    }
   ],
   "source": [
    "df2 = pd.read_csv(r\"List_ExtractedFeatures.csv\")\n",
    "df2 = df2.dropna()\n",
    "df2.head()\n",
    "#df2.isnull().values.any() #check if any NaN remain in dataframe"
   ]
  },
  {
   "cell_type": "code",
   "execution_count": null,
   "id": "ee410247",
   "metadata": {},
   "outputs": [],
   "source": []
  },
  {
   "cell_type": "code",
   "execution_count": 13,
   "id": "1c37bd00",
   "metadata": {},
   "outputs": [],
   "source": [
    "X = df2.iloc[:, 2:42]\n",
    "y = df2.iloc[:, 1]\n",
    "#shuffle the rows of the dataframe\n",
    "from sklearn.utils import shuffle\n",
    "df2 = shuffle(df2)"
   ]
  },
  {
   "cell_type": "code",
   "execution_count": 22,
   "id": "399c1bfc",
   "metadata": {},
   "outputs": [
    {
     "name": "stdout",
     "output_type": "stream",
     "text": [
      "X-train:\n",
      "\n",
      "       CH22_A-PEAK  CH22_A-P2P  CH22_A-RMS  CH22_A-MLocMaxV  CH22_A-MINLocMinV  \\\n",
      "5005     0.000000    0.000000    0.000000         0.000000           0.000000   \n",
      "886      2.179022    4.389913    0.175956         0.218143          -0.202436   \n",
      "7926     9.937078   17.080542    1.345498         0.976821          -1.079939   \n",
      "2821     5.075568    8.424628    1.228301         1.132956          -1.044356   \n",
      "4574    24.917791   55.092033    3.095123         2.033338          -2.141320   \n",
      "...           ...         ...         ...              ...                ...   \n",
      "1905    16.739247   30.901768    4.916883         4.125360          -4.343205   \n",
      "4119     6.041436   12.216763    1.753121         1.572673          -1.452818   \n",
      "6377    64.968000  100.370555    6.877793         5.784398          -5.738205   \n",
      "2779    21.220214   33.366830    1.693371         1.321655          -1.349935   \n",
      "2896     4.171120    8.583731    0.897898         0.819247          -0.699759   \n",
      "\n",
      "      CH22_A-MAV  CH22_A-MAVFD  CH22_A-MAVFDN  CH22_A-MAVSD  CH22_A-MAVSDN  \\\n",
      "5005    0.000000      0.000000       0.000000      0.000000       0.000000   \n",
      "886     0.046220      0.040602       0.230765      0.061246       0.348097   \n",
      "7926    0.673773      0.710306       0.527430      1.062696       0.789094   \n",
      "2821    0.664945      0.820338       0.664633      1.220571       0.988899   \n",
      "4574    1.665653      2.024348       0.654060      3.088064       0.997743   \n",
      "...          ...           ...            ...           ...            ...   \n",
      "1905    2.818332      2.659237       0.540890      3.899707       0.793203   \n",
      "4119    0.917195      0.945143       0.538800      1.419005       0.808935   \n",
      "6377    4.534769      4.035247       0.586682      5.268615       0.766001   \n",
      "2779    0.604599      0.737341       0.435392      1.206166       0.712228   \n",
      "2896    0.494295      0.605635       0.674499      0.920576       1.025250   \n",
      "\n",
      "      ...  CH22_V-std  CH22_V-range  CH22_V-intrange  CH22_Sim-cohe_F_median  \\\n",
      "5005  ...    0.000000      0.000000         0.000000                     257   \n",
      "886   ...    0.175945      4.389913         0.000000                     269   \n",
      "7926  ...    1.346729     17.080542         0.364022                     237   \n",
      "2821  ...    1.234273      8.424628         0.179977                     258   \n",
      "4574  ...    3.095050     55.092033         1.507365                     249   \n",
      "...   ...         ...           ...              ...                     ...   \n",
      "1905  ...    4.916407     30.901768         0.783965                     261   \n",
      "4119  ...    1.754163     12.216763         0.179306                     252   \n",
      "6377  ...    6.878081    100.370555         6.697312                     265   \n",
      "2779  ...    1.693512     33.366830         0.079816                     271   \n",
      "2896  ...    0.897904      8.583731         0.333547                     256   \n",
      "\n",
      "      CH22_Sim-cohe_mean  CH22_Sim-cohe_pond_mean  CH22_Sim-cohe_areapond  \\\n",
      "5005            0.000000                 0.000000                0.000000   \n",
      "886             0.337252               133.072868               86.119426   \n",
      "7926            0.276324               122.000195               70.860486   \n",
      "2821            0.342730               129.550703               87.752413   \n",
      "4574            0.390813               126.004053               99.916159   \n",
      "...                  ...                      ...                     ...   \n",
      "1905            0.371079               130.325952               94.965648   \n",
      "4119            0.361311               126.891526               92.478753   \n",
      "6377            0.302962               130.108170               77.489934   \n",
      "2779            0.331291               131.117741               84.821362   \n",
      "2896            0.319482               128.681528               81.729855   \n",
      "\n",
      "      CH22_Sim-corr  CH22_Sim-MutInfo  CH23_A-PEAK  \n",
      "5005       0.000000          0.000000     2.840931  \n",
      "886        0.002965          2.480728    75.809579  \n",
      "7926       0.014724          4.532774    11.250050  \n",
      "2821       0.026187          2.748487     2.263431  \n",
      "4574       0.025340         10.894608    11.026572  \n",
      "...             ...               ...          ...  \n",
      "1905       0.344122          8.216456    26.930967  \n",
      "4119       0.013102          5.773704     0.883882  \n",
      "6377       0.407255         11.439140    10.143382  \n",
      "2779       0.023961          6.071270    12.393650  \n",
      "2896       0.004956          7.547523     1.067105  \n",
      "\n",
      "[5646 rows x 40 columns]\n",
      "X-test:\n",
      "\n",
      "       CH22_A-PEAK  CH22_A-P2P  CH22_A-RMS  CH22_A-MLocMaxV  CH22_A-MINLocMinV  \\\n",
      "529    230.731851  374.917200   19.665737        12.031120         -11.701000   \n",
      "4227    25.239619   47.915483    2.929933         1.709778          -1.895074   \n",
      "1248     1.599585    3.132492    0.119420         0.161794          -0.147123   \n",
      "1122   242.716566  557.105195   26.499693         9.603108         -11.830033   \n",
      "81       3.086144    5.877273    0.323683         0.375437          -0.367634   \n",
      "...           ...         ...         ...              ...                ...   \n",
      "3397     0.000000    0.000000    0.000000         0.000000           0.000000   \n",
      "2831   155.509343  252.356497   13.413402         8.630557          -8.286105   \n",
      "3781     0.000000    0.087597    0.002238         0.000000          -0.087597   \n",
      "943      3.503673    6.457584    0.291580         0.452441          -0.450500   \n",
      "528      3.396964    6.768959    0.357586         0.417070          -0.401792   \n",
      "\n",
      "      CH22_A-MAV  CH22_A-MAVFD  CH22_A-MAVFDN  CH22_A-MAVSD  CH22_A-MAVSDN  \\\n",
      "529    10.391718     11.740952       0.596805     17.616481       0.895464   \n",
      "4227    1.542465      1.040053       0.354895      1.405733       0.479675   \n",
      "1248    0.027731      0.031374       0.262719      0.051879       0.434414   \n",
      "1122    7.131050      7.078785       0.267001      9.658951       0.364322   \n",
      "81      0.110133      0.111339       0.343914      0.195171       0.602863   \n",
      "...          ...           ...            ...           ...            ...   \n",
      "3397    0.000000      0.000000       0.000000      0.000000       0.000000   \n",
      "2831    6.210852      8.270937       0.616428     12.970271       0.966666   \n",
      "3781    0.000074      0.000062       0.027814      0.000073       0.032812   \n",
      "943     0.067002      0.078062       0.267682      0.134913       0.462630   \n",
      "528     0.092740      0.097431       0.272433      0.156768       0.438349   \n",
      "\n",
      "      ...  CH22_V-std  CH22_V-range  CH22_V-intrange  CH22_Sim-cohe_F_median  \\\n",
      "529   ...   19.673017    374.917200         8.215362                     240   \n",
      "4227  ...    2.930591     47.915483         1.071021                     260   \n",
      "1248  ...    0.119422      3.132492         0.000000                     258   \n",
      "1122  ...   26.512156    557.105195         1.417056                     261   \n",
      "81    ...    0.323740      5.877273         0.000000                     260   \n",
      "...   ...         ...           ...              ...                     ...   \n",
      "3397  ...    0.000000      0.000000         0.000000                     257   \n",
      "2831  ...   13.417534    252.356497         3.392924                     252   \n",
      "3781  ...    0.002237      0.087597         0.000000                     249   \n",
      "943   ...    0.291623      6.457584         0.000000                     270   \n",
      "528   ...    0.357632      6.768959         0.000000                     264   \n",
      "\n",
      "      CH22_Sim-cohe_mean  CH22_Sim-cohe_pond_mean  CH22_Sim-cohe_areapond  \\\n",
      "529             0.286411               122.274699               73.309750   \n",
      "4227            0.332147               127.413902               84.981534   \n",
      "1248            0.328180               128.690105               83.995436   \n",
      "1122            0.306699               128.268393               78.507655   \n",
      "81              0.342263               127.977388               87.695203   \n",
      "...                  ...                      ...                     ...   \n",
      "3397            0.000000                 0.000000                0.000000   \n",
      "2831            0.271145               128.225973               69.371794   \n",
      "3781            0.312164               125.657462               79.962159   \n",
      "943             0.275699               130.765341               70.522901   \n",
      "528             0.321556               130.815313               82.245169   \n",
      "\n",
      "      CH22_Sim-corr  CH22_Sim-MutInfo  CH23_A-PEAK  \n",
      "529        0.002255          9.142314    28.691518  \n",
      "4227       0.079783          9.764722     6.945589  \n",
      "1248       0.003326          3.299185     3.401033  \n",
      "1122       0.095045         11.075023     5.597402  \n",
      "81         0.041992          5.948199    10.193819  \n",
      "...             ...               ...          ...  \n",
      "3397       0.000000          0.000000     3.774818  \n",
      "2831       0.024154          7.243241    31.108420  \n",
      "3781       0.007899          0.018320     5.665826  \n",
      "943        0.005426          1.541821     2.833367  \n",
      "528        0.017522          2.610248    25.148466  \n",
      "\n",
      "[2781 rows x 40 columns]\n",
      "y-train:\n",
      "\n",
      " 5005     level_zero\n",
      "886       level_two\n",
      "7926    level_three\n",
      "2821      level_two\n",
      "4574    level_three\n",
      "           ...     \n",
      "1905     level_zero\n",
      "4119    level_three\n",
      "6377    level_three\n",
      "2779    level_three\n",
      "2896      level_one\n",
      "Name: Label, Length: 5646, dtype: object\n",
      "y-test:\n",
      "\n",
      " 529     level_three\n",
      "4227     level_zero\n",
      "1248     level_zero\n",
      "1122     level_zero\n",
      "81       level_zero\n",
      "           ...     \n",
      "3397     level_zero\n",
      "2831      level_one\n",
      "3781     level_zero\n",
      "943      level_four\n",
      "528       level_two\n",
      "Name: Label, Length: 2781, dtype: object\n"
     ]
    }
   ],
   "source": [
    "#splitting the data into training and training\n",
    "from sklearn.model_selection import train_test_split\n",
    "X_train, X_test, y_train, y_test = train_test_split(X, y, test_size=0.33, random_state=42)\n",
    "print(\"X-train:\\n\\n\", X_train)\n",
    "print(\"X-test:\\n\\n\",X_test)\n",
    "print(\"y-train:\\n\\n\",y_train)\n",
    "print(\"y-test:\\n\\n\",y_test)"
   ]
  },
  {
   "cell_type": "code",
   "execution_count": 27,
   "id": "102e4b92",
   "metadata": {},
   "outputs": [],
   "source": [
    "from tpot import TPOTClassifier\n",
    "pipeline_optimizer = TPOTClassifier(generations=5, population_size=20, cv=5,\n",
    "                                    random_state=42, verbosity=2)\n"
   ]
  },
  {
   "cell_type": "code",
   "execution_count": 28,
   "id": "10f8642d",
   "metadata": {},
   "outputs": [
    {
     "data": {
      "application/vnd.jupyter.widget-view+json": {
       "model_id": "",
       "version_major": 2,
       "version_minor": 0
      },
      "text/plain": [
       "Optimization Progress:   0%|          | 0/120 [00:00<?, ?pipeline/s]"
      ]
     },
     "metadata": {},
     "output_type": "display_data"
    },
    {
     "name": "stdout",
     "output_type": "stream",
     "text": [
      "\n",
      "Generation 1 - Current best internal CV score: 0.32093559183865433\n",
      "\n",
      "Generation 2 - Current best internal CV score: 0.32093559183865433\n",
      "\n",
      "Generation 3 - Current best internal CV score: 0.32093559183865433\n",
      "\n",
      "Generation 4 - Current best internal CV score: 0.32235120750605517\n",
      "\n",
      "Generation 5 - Current best internal CV score: 0.32235120750605517\n",
      "\n",
      "Best pipeline: XGBClassifier(input_matrix, learning_rate=0.01, max_depth=3, min_child_weight=4, n_estimators=100, n_jobs=1, subsample=0.4, verbosity=0)\n"
     ]
    },
    {
     "data": {
      "text/plain": [
       "TPOTClassifier(generations=5, population_size=20, random_state=42, verbosity=2)"
      ]
     },
     "execution_count": 28,
     "metadata": {},
     "output_type": "execute_result"
    }
   ],
   "source": [
    "pipeline_optimizer.fit(X_train, y_train)"
   ]
  },
  {
   "cell_type": "code",
   "execution_count": 32,
   "id": "2c1692bd",
   "metadata": {},
   "outputs": [],
   "source": [
    "#print(pipeline_optimizer.score(X_test, y_test))"
   ]
  },
  {
   "cell_type": "code",
   "execution_count": 30,
   "id": "6f41ee93",
   "metadata": {},
   "outputs": [],
   "source": [
    "pipeline_optimizer.export('tpot_exported_pipeline.py')"
   ]
  },
  {
   "cell_type": "code",
   "execution_count": 38,
   "id": "505c7573",
   "metadata": {},
   "outputs": [
    {
     "name": "stderr",
     "output_type": "stream",
     "text": [
      "/Users/meg/opt/anaconda3/lib/python3.9/site-packages/xgboost/sklearn.py:1224: UserWarning: The use of label encoder in XGBClassifier is deprecated and will be removed in a future release. To remove this warning, do the following: 1) Pass option use_label_encoder=False when constructing XGBClassifier object; and 2) Encode your labels (y) as integers starting with 0, i.e. 0, 1, 2, ..., [num_class - 1].\n",
      "  metrics will be computed.\n"
     ]
    },
    {
     "name": "stdout",
     "output_type": "stream",
     "text": [
      "XGBClassifier(base_score=0.5, booster='gbtree', colsample_bylevel=1,\n",
      "              colsample_bynode=1, colsample_bytree=1, enable_categorical=False,\n",
      "              gamma=0, gpu_id=-1, importance_type=None,\n",
      "              interaction_constraints='', learning_rate=0.300000012,\n",
      "              max_delta_step=0, max_depth=6, min_child_weight=1, missing=nan,\n",
      "              monotone_constraints='()', n_estimators=100, n_jobs=8,\n",
      "              num_parallel_tree=1, objective='multi:softprob', predictor='auto',\n",
      "              random_state=0, reg_alpha=0, reg_lambda=1, scale_pos_weight=None,\n",
      "              subsample=1, tree_method='exact', validate_parameters=1,\n",
      "              verbosity=None)\n"
     ]
    }
   ],
   "source": [
    "from xgboost import XGBClassifier\n",
    "from sklearn.metrics import accuracy_score\n",
    "model = XGBClassifier()\n",
    "model.fit(X_train, y_train)\n",
    "print(model)"
   ]
  },
  {
   "cell_type": "code",
   "execution_count": 65,
   "id": "60ac54b2",
   "metadata": {},
   "outputs": [],
   "source": [
    "y_pred = model.predict(X_test)\n",
    "#print(y_pred)\n",
    "predictions = [value for value in y_pred]\n",
    "#print(predictions)"
   ]
  },
  {
   "cell_type": "code",
   "execution_count": 45,
   "id": "88715cbf",
   "metadata": {},
   "outputs": [
    {
     "name": "stdout",
     "output_type": "stream",
     "text": [
      "Accuracy: 32.25%\n"
     ]
    }
   ],
   "source": [
    "#perform some metrics\n",
    "accuracy = accuracy_score(y_test, predictions)\n",
    "print(\"Accuracy: %.2f%%\" % (accuracy * 100.0))"
   ]
  },
  {
   "cell_type": "code",
   "execution_count": 61,
   "id": "242b4942",
   "metadata": {},
   "outputs": [
    {
     "name": "stdout",
     "output_type": "stream",
     "text": [
      "              precision    recall  f1-score   support\n",
      "\n",
      "  level_zero       0.46      0.45      0.45       566\n",
      "   level_one       0.27      0.28      0.27       551\n",
      "   level_two       0.27      0.24      0.26       540\n",
      " level_three       0.22      0.22      0.22       546\n",
      "  level_four       0.38      0.42      0.40       578\n",
      "\n",
      "    accuracy                           0.32      2781\n",
      "   macro avg       0.32      0.32      0.32      2781\n",
      "weighted avg       0.32      0.32      0.32      2781\n",
      "\n"
     ]
    }
   ],
   "source": [
    "from sklearn.metrics import classification_report\n",
    "from sklearn.metrics import roc_curve\n",
    "labels = [\"level_zero\", \"level_one\", \"level_two\", \"level_three\", \"level_four\"]\n",
    "print(classification_report(y_test, y_pred, target_names=labels))\n",
    "#print(roc_curve(y_test, y_pred, labels)\n",
    "      \n",
    "      "
   ]
  },
  {
   "cell_type": "code",
   "execution_count": 64,
   "id": "db471c15",
   "metadata": {},
   "outputs": [
    {
     "data": {
      "text/plain": [
       "array([[[1805,  398],\n",
       "        [ 337,  241]],\n",
       "\n",
       "       [[1810,  420],\n",
       "        [ 399,  152]],\n",
       "\n",
       "       [[1813,  422],\n",
       "        [ 425,  121]],\n",
       "\n",
       "       [[1899,  342],\n",
       "        [ 411,  129]],\n",
       "\n",
       "       [[1913,  302],\n",
       "        [ 312,  254]]])"
      ]
     },
     "execution_count": 64,
     "metadata": {},
     "output_type": "execute_result"
    }
   ],
   "source": [
    "from sklearn.metrics import multilabel_confusion_matrix\n",
    "multilabel_confusion_matrix(y_test, y_pred, labels=labels)\n"
   ]
  },
  {
   "cell_type": "code",
   "execution_count": 62,
   "id": "88c5a852",
   "metadata": {},
   "outputs": [
    {
     "data": {
      "image/png": "[encoded data removed]",
      "text/plain": [
       "<Figure size 432x288 with 2 Axes>"
      ]
     },
     "metadata": {
      "needs_background": "light"
     },
     "output_type": "display_data"
    }
   ],
   "source": [
    "from sklearn.metrics import confusion_matrix, ConfusionMatrixDisplay\n",
    "cm = confusion_matrix(y_test, predictions, labels=labels)\n",
    "disp = ConfusionMatrixDisplay(confusion_matrix=cm,display_labels=labels)\n",
    "disp.plot()\n",
    "plt.show()"
   ]
  },
  {
   "cell_type": "code",
   "execution_count": null,
   "id": "760f55ee",
   "metadata": {},
   "outputs": [],
   "source": [
    "from sklearn.metrics import RocCurveDisplay\n",
    "xgb_disp = RocCurveDisplay.from_estimator(svc, X_test, y_test)\n"
   ]
  }
 ],
 "metadata": {
  "kernelspec": {
   "display_name": "Python 3 (ipykernel)",
   "language": "python",
   "name": "python3"
  },
  "language_info": {
   "codemirror_mode": {
    "name": "ipython",
    "version": 3
   },
   "file_extension": ".py",
   "mimetype": "text/x-python",
   "name": "python",
   "nbconvert_exporter": "python",
   "pygments_lexer": "ipython3",
   "version": "3.9.7"
  }
 },
 "nbformat": 4,
 "nbformat_minor": 5
}
