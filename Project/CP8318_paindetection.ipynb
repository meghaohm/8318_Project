{
 "cells": [
  {
   "cell_type": "code",
   "execution_count": 1,
   "id": "e605804f",
   "metadata": {},
   "outputs": [],
   "source": [
    "import io\n",
    "import numpy as np\n",
    "import pandas as pd\n",
    "import matplotlib.pyplot as plt\n",
    "from sklearn.model_selection import LeaveOneGroupOut\n",
    "from sklearn import svm"
   ]
  },
  {
   "cell_type": "code",
   "execution_count": 2,
   "id": "dc140e28",
   "metadata": {},
   "outputs": [
    {
     "name": "stdout",
     "output_type": "stream",
     "text": [
      "7949\n"
     ]
    }
   ],
   "source": [
    "df = pd.read_csv(r\"train-80-binary-onehot.csv\")\n",
    "df = df.dropna()\n",
    "rows = df.shape[0]\n",
    "print(rows)\n",
    "groups = np.array(np.zeros(rows))\n",
    "for i in range(0, int(rows/100)):\n",
    "    for j in range(0, 99):\n",
    "        groups[j] = int(i)"
   ]
  },
  {
   "cell_type": "code",
   "execution_count": 3,
   "id": "551ba073",
   "metadata": {},
   "outputs": [],
   "source": [
    "#LOGO\n",
    "logo = LeaveOneGroupOut()\n",
    "X = df.iloc[:, 5:47]\n",
    "y = df.iloc[:, 4]\n",
    "logo.get_n_splits(X, y, groups)\n",
    "logo.get_n_splits(groups=groups)\n",
    "for train_index, test_index in logo.split(X, y, groups=groups):\n",
    "    #print(\"TRAIN:\", train_index, \"TEST:\", test_index)\n",
    "    X_train, X_test = X.iloc[train_index], X.iloc[test_index]\n",
    "    y_train, y_test = y.iloc[train_index], y.iloc[test_index]\n",
    "    #print(\"%s %s\" % (train_index, test_index))\n",
    "    #print(\"X_train:\", X_train, \"X_test:\", X_test, \"y_train:\", y_train, \"y_test:\", y_test)"
   ]
  },
  {
   "cell_type": "code",
   "execution_count": 4,
   "id": "5309cc0c",
   "metadata": {},
   "outputs": [],
   "source": [
    "df_test = pd.read_csv(r\"test-5-binary-onehot.csv\")\n",
    "df_test = df_test.dropna()\n",
    "test_input = df_test.iloc[:, 5:47]\n",
    "test_output = df_test.iloc[:, 4]"
   ]
  },
  {
   "cell_type": "code",
   "execution_count": 5,
   "id": "bb4ee59b",
   "metadata": {},
   "outputs": [],
   "source": [
    "#cross entropy\n",
    "def cross_entropy(predictions, targets, epsilon=1e-12):\n",
    "    \"\"\"\n",
    "    Computes cross entropy between targets (encoded as one-hot vectors)\n",
    "    and predictions. \n",
    "    Input: predictions (N, k) ndarray\n",
    "           targets (N, k) ndarray        \n",
    "    Returns: scalar\n",
    "    \"\"\"\n",
    "    predictions = np.clip(predictions, epsilon, 1. - epsilon)\n",
    "    N = predictions.shape[0]\n",
    "    ce = -np.sum(targets.T*np.log(predictions+1e-9))/N\n",
    "    return ce\n",
    "\n",
    "def one_hot_labels(labels):\n",
    "    one_hot_labels = np.zeros((labels.size, 5))\n",
    "    one_hot_labels[np.arange(labels.size),labels.astype(int)] = 1\n",
    "    return one_hot_labels"
   ]
  },
  {
   "cell_type": "code",
   "execution_count": 6,
   "id": "bc8adf26",
   "metadata": {},
   "outputs": [
    {
     "name": "stdout",
     "output_type": "stream",
     "text": [
      "Validation Accuracy: 79.80%\n",
      "7850\n"
     ]
    }
   ],
   "source": [
    "#SVM with radial basis function\n",
    "from sklearn.svm import SVC\n",
    "from sklearn.metrics import accuracy_score\n",
    "svclassifier = SVC(kernel='rbf')\n",
    "svclassifier.fit(X_train, y_train)\n",
    "num_iter = len(y_train)\n",
    "RBF_y_pred = svclassifier.predict(X_test)\n",
    "accuracy = accuracy_score(y_test, RBF_y_pred)\n",
    "print(\"Validation Accuracy: %.2f%%\" % (accuracy * 100.0))\n",
    "y_test_enc = one_hot_labels(y_test)\n",
    "cross_output = np.zeros(num_iter)\n",
    "for i in range(num_iter):\n",
    "  cross_output[i] = abs(cross_entropy(RBF_y_pred, y_test_enc))\n",
    "#cross_output = abs(cross_entropy(RBF_y_pred, y_test_enc))\n",
    "# plot cross_entropy (y-axis) vs iteration (x-axis)\n",
    "print(len(cross_output))"
   ]
  },
  {
   "cell_type": "code",
   "execution_count": 7,
   "id": "eb80f9bb",
   "metadata": {},
   "outputs": [
    {
     "name": "stdout",
     "output_type": "stream",
     "text": [
      "Test Accuracy: 79.80%\n"
     ]
    },
    {
     "data": {
      "image/png": "[encoded data removed]",
      "text/plain": [
       "<Figure size 432x288 with 2 Axes>"
      ]
     },
     "metadata": {
      "needs_background": "light"
     },
     "output_type": "display_data"
    },
    {
     "data": {
      "text/plain": [
       "array([[[400,   0],\n",
       "        [100,   0]],\n",
       "\n",
       "       [[  0, 100],\n",
       "        [  0, 400]]])"
      ]
     },
     "execution_count": 7,
     "metadata": {},
     "output_type": "execute_result"
    }
   ],
   "source": [
    "#use on test set\n",
    "test_predictions= svclassifier.predict(test_input)\n",
    "#print(test_predictions)\n",
    "len(test_predictions)\n",
    "test_accuracy = accuracy_score(test_output, test_predictions)\n",
    "print(\"Test Accuracy: %.2f%%\" % (accuracy * 100.0))\n",
    "from sklearn.metrics import confusion_matrix, ConfusionMatrixDisplay\n",
    "labels = [0, 1]\n",
    "cm = confusion_matrix(test_output, test_predictions, labels=labels)\n",
    "disp = ConfusionMatrixDisplay(confusion_matrix=cm,display_labels=labels)\n",
    "disp.plot()\n",
    "plt.show()"
   ]
  },
  {
   "cell_type": "code",
   "execution_count": 8,
   "id": "80b81eda",
   "metadata": {},
   "outputs": [
    {
     "data": {
      "image/png": "[encoded data removed]",
      "text/plain": [
       "<Figure size 432x288 with 1 Axes>"
      ]
     },
     "metadata": {
      "needs_background": "light"
     },
     "output_type": "display_data"
    }
   ],
   "source": [
    "fig, (ax1) = plt.subplots(1, 1)\n",
    "#ymin, ymax = plt.ylim(0.95, 1.1)\n",
    "t= np.arange(len(y_train))\n",
    "ax1.plot(t, cross_output, 'r', label='test')\n",
    "#ax1.plot(t, cost_dev, 'b', label='dev')\n",
    "ax1.set_xlabel('training example')\n",
    "ax1.set_ylabel('cross entropy loss')\n",
    "ax1.legend(loc='best')\n",
    "plt.tight_layout()\n",
    "plt.show()"
   ]
  },
  {
   "cell_type": "code",
   "execution_count": 12,
   "id": "99fc929c",
   "metadata": {},
   "outputs": [
    {
     "name": "stdout",
     "output_type": "stream",
     "text": [
      "Validation Accuracy: 20.20%\n",
      "Test Accuracy: 20.00%\n"
     ]
    },
    {
     "data": {
      "image/png": "[encoded data removed]",
      "text/plain": [
       "<Figure size 432x288 with 2 Axes>"
      ]
     },
     "metadata": {
      "needs_background": "light"
     },
     "output_type": "display_data"
    }
   ],
   "source": [
    "#try multiclass classification\n",
    "logo = LeaveOneGroupOut()\n",
    "X = df.iloc[:, 5:47]\n",
    "y_multi = df.iloc[:, 2]\n",
    "logo.get_n_splits(X, y, groups)\n",
    "logo.get_n_splits(groups=groups)\n",
    "for train_index, test_index in logo.split(X, y_multi, groups=groups):\n",
    "    #print(\"TRAIN:\", train_index, \"TEST:\", test_index)\n",
    "    X_train, X_test = X.iloc[train_index], X.iloc[test_index]\n",
    "    y_train_multi, y_test_multi = y_multi.iloc[train_index], y_multi.iloc[test_index]\n",
    "    #print(\"%s %s\" % (train_index, test_index))\n",
    "    #print(\"X_train:\", X_train, \"X_test:\", X_test, \"y_train:\", y_train, \"y_test:\", y_test)\n",
    "\n",
    "test_input_multi = df_test.iloc[:, 5:47]\n",
    "test_output_multi = df_test.iloc[:, 2]\n",
    "#train the multiclass model\n",
    "svclassifier = SVC(kernel='rbf')\n",
    "svclassifier.fit(X_train, y_train_multi)\n",
    "RBF_y_pred_multi = svclassifier.predict(X_test)\n",
    "accuracy = accuracy_score(y_test_multi, RBF_y_pred_multi)\n",
    "print(\"Validation Accuracy: %.2f%%\" % (accuracy * 100.0))\n",
    "#use on test data set\n",
    "multi_test_predictions = svclassifier.predict(test_input_multi)\n",
    "accuracy = accuracy_score(test_output_multi, multi_test_predictions)\n",
    "print(\"Test Accuracy: %.2f%%\" % (accuracy * 100.0))\n",
    "#produce the confusion matrix\n",
    "labels = [0, 1, 2, 3, 4]\n",
    "cm = confusion_matrix(test_output_multi, multi_test_predictions, labels=labels)\n",
    "disp = ConfusionMatrixDisplay(confusion_matrix=cm,display_labels=labels)\n",
    "disp.plot()\n",
    "plt.show()"
   ]
  },
  {
   "cell_type": "code",
   "execution_count": null,
   "id": "95eccaf3",
   "metadata": {},
   "outputs": [],
   "source": []
  }
 ],
 "metadata": {
  "kernelspec": {
   "display_name": "Python 3 (ipykernel)",
   "language": "python",
   "name": "python3"
  },
  "language_info": {
   "codemirror_mode": {
    "name": "ipython",
    "version": 3
   },
   "file_extension": ".py",
   "mimetype": "text/x-python",
   "name": "python",
   "nbconvert_exporter": "python",
   "pygments_lexer": "ipython3",
   "version": "3.9.7"
  }
 },
 "nbformat": 4,
 "nbformat_minor": 5
}
